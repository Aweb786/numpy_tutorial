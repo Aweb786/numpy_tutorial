{
 "cells": [
  {
   "cell_type": "code",
   "execution_count": 1,
   "id": "acc5f6aa",
   "metadata": {},
   "outputs": [],
   "source": [
    "import numpy as np"
   ]
  },
  {
   "cell_type": "markdown",
   "id": "3b6026d2",
   "metadata": {},
   "source": [
    "# np.sort"
   ]
  },
  {
   "cell_type": "code",
   "execution_count": 2,
   "id": "0ea2c73f",
   "metadata": {},
   "outputs": [
    {
     "data": {
      "text/plain": [
       "array([138,  80,  41, 130,  21, 135,  16, 180,  83, 113,  43, 171, 163,\n",
       "        78,  17])"
      ]
     },
     "execution_count": 2,
     "metadata": {},
     "output_type": "execute_result"
    }
   ],
   "source": [
    "a=np.random.randint(1,200,15)\n",
    "a"
   ]
  },
  {
   "cell_type": "code",
   "execution_count": 3,
   "id": "ac263aa2",
   "metadata": {},
   "outputs": [
    {
     "data": {
      "text/plain": [
       "array([[88, 75, 54, 73],\n",
       "       [79, 88, 97, 84],\n",
       "       [60, 55, 65, 96],\n",
       "       [58, 71, 61, 88],\n",
       "       [88, 70, 91, 58],\n",
       "       [99, 57, 99, 87]])"
      ]
     },
     "execution_count": 3,
     "metadata": {},
     "output_type": "execute_result"
    }
   ],
   "source": [
    "b=np.random.randint(50,100,24).reshape(6,4)\n",
    "b"
   ]
  },
  {
   "cell_type": "code",
   "execution_count": 4,
   "id": "10f23baf",
   "metadata": {},
   "outputs": [
    {
     "data": {
      "text/plain": [
       "array([ 16,  17,  21,  41,  43,  78,  80,  83, 113, 130, 135, 138, 163,\n",
       "       171, 180])"
      ]
     },
     "execution_count": 4,
     "metadata": {},
     "output_type": "execute_result"
    }
   ],
   "source": [
    "np.sort(a)"
   ]
  },
  {
   "cell_type": "code",
   "execution_count": 5,
   "id": "9667d539",
   "metadata": {},
   "outputs": [
    {
     "data": {
      "text/plain": [
       "array([180, 171, 163, 138, 135, 130, 113,  83,  80,  78,  43,  41,  21,\n",
       "        17,  16])"
      ]
     },
     "execution_count": 5,
     "metadata": {},
     "output_type": "execute_result"
    }
   ],
   "source": [
    "#descending order\n",
    "np.sort(a)[::-1]"
   ]
  },
  {
   "cell_type": "code",
   "execution_count": 6,
   "id": "a4026fdb",
   "metadata": {},
   "outputs": [
    {
     "data": {
      "text/plain": [
       "array([[54, 73, 75, 88],\n",
       "       [79, 84, 88, 97],\n",
       "       [55, 60, 65, 96],\n",
       "       [58, 61, 71, 88],\n",
       "       [58, 70, 88, 91],\n",
       "       [57, 87, 99, 99]])"
      ]
     },
     "execution_count": 6,
     "metadata": {},
     "output_type": "execute_result"
    }
   ],
   "source": [
    "#row wise sorting\n",
    "np.sort(b)"
   ]
  },
  {
   "cell_type": "code",
   "execution_count": 7,
   "id": "4d156dd7",
   "metadata": {},
   "outputs": [
    {
     "data": {
      "text/plain": [
       "array([[58, 55, 54, 58],\n",
       "       [60, 57, 61, 73],\n",
       "       [79, 70, 65, 84],\n",
       "       [88, 71, 91, 87],\n",
       "       [88, 75, 97, 88],\n",
       "       [99, 88, 99, 96]])"
      ]
     },
     "execution_count": 7,
     "metadata": {},
     "output_type": "execute_result"
    }
   ],
   "source": [
    "#column wise\n",
    "np.sort(b,axis=0)"
   ]
  },
  {
   "cell_type": "markdown",
   "id": "3a65dc0a",
   "metadata": {},
   "source": [
    "# np.append"
   ]
  },
  {
   "cell_type": "markdown",
   "id": "8a0e0eb8",
   "metadata": {},
   "source": [
    "this function is used to insert the values in the last of an array."
   ]
  },
  {
   "cell_type": "code",
   "execution_count": 8,
   "id": "cb9336e6",
   "metadata": {},
   "outputs": [
    {
     "data": {
      "text/plain": [
       "array([138,  80,  41, 130,  21, 135,  16, 180,  83, 113,  43, 171, 163,\n",
       "        78,  17])"
      ]
     },
     "execution_count": 8,
     "metadata": {},
     "output_type": "execute_result"
    }
   ],
   "source": [
    "a"
   ]
  },
  {
   "cell_type": "code",
   "execution_count": 9,
   "id": "e499bcd8",
   "metadata": {},
   "outputs": [
    {
     "data": {
      "text/plain": [
       "array([138,  80,  41, 130,  21, 135,  16, 180,  83, 113,  43, 171, 163,\n",
       "        78,  17, 200])"
      ]
     },
     "execution_count": 9,
     "metadata": {},
     "output_type": "execute_result"
    }
   ],
   "source": [
    "np.append(a,200)"
   ]
  },
  {
   "cell_type": "code",
   "execution_count": 10,
   "id": "c91e4208",
   "metadata": {},
   "outputs": [
    {
     "data": {
      "text/plain": [
       "array([[88, 75, 54, 73],\n",
       "       [79, 88, 97, 84],\n",
       "       [60, 55, 65, 96],\n",
       "       [58, 71, 61, 88],\n",
       "       [88, 70, 91, 58],\n",
       "       [99, 57, 99, 87]])"
      ]
     },
     "execution_count": 10,
     "metadata": {},
     "output_type": "execute_result"
    }
   ],
   "source": [
    "b"
   ]
  },
  {
   "cell_type": "code",
   "execution_count": 11,
   "id": "a0a07602",
   "metadata": {},
   "outputs": [
    {
     "data": {
      "text/plain": [
       "array([[88., 75., 54., 73.,  1.],\n",
       "       [79., 88., 97., 84.,  1.],\n",
       "       [60., 55., 65., 96.,  1.],\n",
       "       [58., 71., 61., 88.,  1.],\n",
       "       [88., 70., 91., 58.,  1.],\n",
       "       [99., 57., 99., 87.,  1.]])"
      ]
     },
     "execution_count": 11,
     "metadata": {},
     "output_type": "execute_result"
    }
   ],
   "source": [
    "np.append(b,np.ones((b.shape[0],1)),axis=1)"
   ]
  },
  {
   "cell_type": "markdown",
   "id": "65a40867",
   "metadata": {},
   "source": [
    "# np.concatenate()"
   ]
  },
  {
   "cell_type": "code",
   "execution_count": 12,
   "id": "3fe8175b",
   "metadata": {},
   "outputs": [],
   "source": [
    "c=np.arange(6).reshape(2,3)\n",
    "d=np.arange(6,12).reshape(2,3)"
   ]
  },
  {
   "cell_type": "code",
   "execution_count": 13,
   "id": "e3389423",
   "metadata": {},
   "outputs": [
    {
     "data": {
      "text/plain": [
       "array([[0, 1, 2],\n",
       "       [3, 4, 5]])"
      ]
     },
     "execution_count": 13,
     "metadata": {},
     "output_type": "execute_result"
    }
   ],
   "source": [
    "c"
   ]
  },
  {
   "cell_type": "code",
   "execution_count": 14,
   "id": "1f899c46",
   "metadata": {},
   "outputs": [
    {
     "data": {
      "text/plain": [
       "array([[ 6,  7,  8],\n",
       "       [ 9, 10, 11]])"
      ]
     },
     "execution_count": 14,
     "metadata": {},
     "output_type": "execute_result"
    }
   ],
   "source": [
    "d"
   ]
  },
  {
   "cell_type": "code",
   "execution_count": 15,
   "id": "9a798007",
   "metadata": {},
   "outputs": [
    {
     "data": {
      "text/plain": [
       "array([[ 0,  1,  2],\n",
       "       [ 3,  4,  5],\n",
       "       [ 6,  7,  8],\n",
       "       [ 9, 10, 11]])"
      ]
     },
     "execution_count": 15,
     "metadata": {},
     "output_type": "execute_result"
    }
   ],
   "source": [
    "np.concatenate((c,d))"
   ]
  },
  {
   "cell_type": "code",
   "execution_count": 16,
   "id": "31495789",
   "metadata": {},
   "outputs": [
    {
     "data": {
      "text/plain": [
       "array([[ 0,  1,  2,  6,  7,  8],\n",
       "       [ 3,  4,  5,  9, 10, 11]])"
      ]
     },
     "execution_count": 16,
     "metadata": {},
     "output_type": "execute_result"
    }
   ],
   "source": [
    "np.concatenate((c,d),axis=1)"
   ]
  },
  {
   "cell_type": "markdown",
   "id": "cb604485",
   "metadata": {},
   "source": [
    "# np.unique()"
   ]
  },
  {
   "cell_type": "code",
   "execution_count": 17,
   "id": "1aa3b5de",
   "metadata": {},
   "outputs": [
    {
     "data": {
      "text/plain": [
       "array([1, 2, 3, 4, 5, 6])"
      ]
     },
     "execution_count": 17,
     "metadata": {},
     "output_type": "execute_result"
    }
   ],
   "source": [
    "e=np.array([1,1,2,2,3,3,4,4,5,5,6,6,])\n",
    "np.unique(e)"
   ]
  },
  {
   "cell_type": "markdown",
   "id": "5875684a",
   "metadata": {},
   "source": [
    "# np.expand_dims()"
   ]
  },
  {
   "cell_type": "code",
   "execution_count": 18,
   "id": "bcd93481",
   "metadata": {},
   "outputs": [
    {
     "data": {
      "text/plain": [
       "array([138,  80,  41, 130,  21, 135,  16, 180,  83, 113,  43, 171, 163,\n",
       "        78,  17])"
      ]
     },
     "execution_count": 18,
     "metadata": {},
     "output_type": "execute_result"
    }
   ],
   "source": [
    "a"
   ]
  },
  {
   "cell_type": "code",
   "execution_count": 19,
   "id": "5f808367",
   "metadata": {},
   "outputs": [
    {
     "data": {
      "text/plain": [
       "(1, 15)"
      ]
     },
     "execution_count": 19,
     "metadata": {},
     "output_type": "execute_result"
    }
   ],
   "source": [
    "np.expand_dims(a,axis=0).shape"
   ]
  },
  {
   "cell_type": "code",
   "execution_count": 20,
   "id": "d12b9b30",
   "metadata": {},
   "outputs": [
    {
     "data": {
      "text/plain": [
       "(15, 1)"
      ]
     },
     "execution_count": 20,
     "metadata": {},
     "output_type": "execute_result"
    }
   ],
   "source": [
    "np.expand_dims(a,axis=1).shape"
   ]
  },
  {
   "cell_type": "markdown",
   "id": "6112efa7",
   "metadata": {},
   "source": [
    "# np.where()"
   ]
  },
  {
   "cell_type": "code",
   "execution_count": 21,
   "id": "0b332fdd",
   "metadata": {},
   "outputs": [
    {
     "data": {
      "text/plain": [
       "array([138,  80,  41, 130,  21, 135,  16, 180,  83, 113,  43, 171, 163,\n",
       "        78,  17])"
      ]
     },
     "execution_count": 21,
     "metadata": {},
     "output_type": "execute_result"
    }
   ],
   "source": [
    "a"
   ]
  },
  {
   "cell_type": "code",
   "execution_count": 22,
   "id": "e282a8b3",
   "metadata": {},
   "outputs": [
    {
     "data": {
      "text/plain": [
       "(array([ 0,  1,  3,  5,  7,  8,  9, 11, 12, 13], dtype=int64),)"
      ]
     },
     "execution_count": 22,
     "metadata": {},
     "output_type": "execute_result"
    }
   ],
   "source": [
    "#find all indeces with value greater than 50\n",
    "np.where(a>50)"
   ]
  },
  {
   "cell_type": "code",
   "execution_count": 23,
   "id": "82be684a",
   "metadata": {},
   "outputs": [
    {
     "data": {
      "text/plain": [
       "array([ 0,  0, 41,  0, 21,  0, 16,  0,  0,  0, 43,  0,  0,  0, 17])"
      ]
     },
     "execution_count": 23,
     "metadata": {},
     "output_type": "execute_result"
    }
   ],
   "source": [
    "#replace all value > 50 with 0\n",
    "np.where(a>50,0,a)"
   ]
  },
  {
   "cell_type": "code",
   "execution_count": 24,
   "id": "fb43f00c",
   "metadata": {},
   "outputs": [
    {
     "data": {
      "text/plain": [
       "array([  0,   0,  41,   0,  21, 135,   0,   0,  83, 113,  43, 171, 163,\n",
       "         0,  17])"
      ]
     },
     "execution_count": 24,
     "metadata": {},
     "output_type": "execute_result"
    }
   ],
   "source": [
    "np.where(a%2==0,0,a)"
   ]
  },
  {
   "cell_type": "markdown",
   "id": "933e87b8",
   "metadata": {},
   "source": [
    "# np.argmax()"
   ]
  },
  {
   "cell_type": "code",
   "execution_count": 25,
   "id": "d612c342",
   "metadata": {},
   "outputs": [
    {
     "data": {
      "text/plain": [
       "array([138,  80,  41, 130,  21, 135,  16, 180,  83, 113,  43, 171, 163,\n",
       "        78,  17])"
      ]
     },
     "execution_count": 25,
     "metadata": {},
     "output_type": "execute_result"
    }
   ],
   "source": [
    "a"
   ]
  },
  {
   "cell_type": "code",
   "execution_count": 26,
   "id": "cc77255d",
   "metadata": {},
   "outputs": [
    {
     "data": {
      "text/plain": [
       "7"
      ]
     },
     "execution_count": 26,
     "metadata": {},
     "output_type": "execute_result"
    }
   ],
   "source": [
    "np.argmax(a)"
   ]
  },
  {
   "cell_type": "code",
   "execution_count": 27,
   "id": "2c1a3f6e",
   "metadata": {},
   "outputs": [
    {
     "data": {
      "text/plain": [
       "array([[88, 75, 54, 73],\n",
       "       [79, 88, 97, 84],\n",
       "       [60, 55, 65, 96],\n",
       "       [58, 71, 61, 88],\n",
       "       [88, 70, 91, 58],\n",
       "       [99, 57, 99, 87]])"
      ]
     },
     "execution_count": 27,
     "metadata": {},
     "output_type": "execute_result"
    }
   ],
   "source": [
    "b"
   ]
  },
  {
   "cell_type": "code",
   "execution_count": 28,
   "id": "e3a59115",
   "metadata": {},
   "outputs": [
    {
     "data": {
      "text/plain": [
       "array([0, 2, 3, 3, 2, 0], dtype=int64)"
      ]
     },
     "execution_count": 28,
     "metadata": {},
     "output_type": "execute_result"
    }
   ],
   "source": [
    "np.argmax(b,axis=1)"
   ]
  },
  {
   "cell_type": "markdown",
   "id": "8080e842",
   "metadata": {},
   "source": [
    "# np.argmin()"
   ]
  },
  {
   "cell_type": "code",
   "execution_count": 29,
   "id": "a2f280bf",
   "metadata": {},
   "outputs": [
    {
     "data": {
      "text/plain": [
       "6"
      ]
     },
     "execution_count": 29,
     "metadata": {},
     "output_type": "execute_result"
    }
   ],
   "source": [
    "np.argmin(a)"
   ]
  },
  {
   "cell_type": "markdown",
   "id": "96a2bdbc",
   "metadata": {},
   "source": [
    "# np.cumsum()"
   ]
  },
  {
   "cell_type": "code",
   "execution_count": 30,
   "id": "6d4580fe",
   "metadata": {},
   "outputs": [
    {
     "data": {
      "text/plain": [
       "array([ 138,  218,  259,  389,  410,  545,  561,  741,  824,  937,  980,\n",
       "       1151, 1314, 1392, 1409], dtype=int32)"
      ]
     },
     "execution_count": 30,
     "metadata": {},
     "output_type": "execute_result"
    }
   ],
   "source": [
    "np.cumsum(a)"
   ]
  },
  {
   "cell_type": "code",
   "execution_count": 31,
   "id": "471e6b1e",
   "metadata": {},
   "outputs": [
    {
     "data": {
      "text/plain": [
       "array([[88, 75, 54, 73],\n",
       "       [79, 88, 97, 84],\n",
       "       [60, 55, 65, 96],\n",
       "       [58, 71, 61, 88],\n",
       "       [88, 70, 91, 58],\n",
       "       [99, 57, 99, 87]])"
      ]
     },
     "execution_count": 31,
     "metadata": {},
     "output_type": "execute_result"
    }
   ],
   "source": [
    "b"
   ]
  },
  {
   "cell_type": "code",
   "execution_count": 32,
   "id": "21dd08fb",
   "metadata": {},
   "outputs": [
    {
     "data": {
      "text/plain": [
       "array([  88,  163,  217,  290,  369,  457,  554,  638,  698,  753,  818,\n",
       "        914,  972, 1043, 1104, 1192, 1280, 1350, 1441, 1499, 1598, 1655,\n",
       "       1754, 1841], dtype=int32)"
      ]
     },
     "execution_count": 32,
     "metadata": {},
     "output_type": "execute_result"
    }
   ],
   "source": [
    "np.cumsum(b)"
   ]
  },
  {
   "cell_type": "code",
   "execution_count": 33,
   "id": "2e1934e1",
   "metadata": {},
   "outputs": [
    {
     "data": {
      "text/plain": [
       "array([[ 88,  75,  54,  73],\n",
       "       [167, 163, 151, 157],\n",
       "       [227, 218, 216, 253],\n",
       "       [285, 289, 277, 341],\n",
       "       [373, 359, 368, 399],\n",
       "       [472, 416, 467, 486]], dtype=int32)"
      ]
     },
     "execution_count": 33,
     "metadata": {},
     "output_type": "execute_result"
    }
   ],
   "source": [
    "np.cumsum(b,axis=0)"
   ]
  },
  {
   "cell_type": "markdown",
   "id": "248c641a",
   "metadata": {},
   "source": [
    "# np.cumprod()"
   ]
  },
  {
   "cell_type": "code",
   "execution_count": 34,
   "id": "0bb4964c",
   "metadata": {},
   "outputs": [
    {
     "data": {
      "text/plain": [
       "array([138,  80,  41, 130,  21, 135,  16, 180,  83, 113,  43, 171, 163,\n",
       "        78,  17])"
      ]
     },
     "execution_count": 34,
     "metadata": {},
     "output_type": "execute_result"
    }
   ],
   "source": [
    "a"
   ]
  },
  {
   "cell_type": "code",
   "execution_count": 35,
   "id": "019f9a1c",
   "metadata": {},
   "outputs": [
    {
     "data": {
      "text/plain": [
       "array([        138,       11040,      452640,    58843200,  1235707200,\n",
       "        -683252544,  1952861184,  -672305152,    33247232,  -538030080,\n",
       "       -1660456960,  -470298624,   650735616,  -782229504,  -412999680],\n",
       "      dtype=int32)"
      ]
     },
     "execution_count": 35,
     "metadata": {},
     "output_type": "execute_result"
    }
   ],
   "source": [
    "np.cumprod(a)"
   ]
  },
  {
   "cell_type": "markdown",
   "id": "c612c20c",
   "metadata": {},
   "source": [
    "# np.percentile()"
   ]
  },
  {
   "cell_type": "code",
   "execution_count": 36,
   "id": "1746ec89",
   "metadata": {},
   "outputs": [
    {
     "data": {
      "text/plain": [
       "array([138,  80,  41, 130,  21, 135,  16, 180,  83, 113,  43, 171, 163,\n",
       "        78,  17])"
      ]
     },
     "execution_count": 36,
     "metadata": {},
     "output_type": "execute_result"
    }
   ],
   "source": [
    "a"
   ]
  },
  {
   "cell_type": "code",
   "execution_count": 37,
   "id": "125c6a54",
   "metadata": {},
   "outputs": [
    {
     "data": {
      "text/plain": [
       "180.0"
      ]
     },
     "execution_count": 37,
     "metadata": {},
     "output_type": "execute_result"
    }
   ],
   "source": [
    "np.percentile(a,100)"
   ]
  },
  {
   "cell_type": "code",
   "execution_count": 38,
   "id": "5e6e356c",
   "metadata": {},
   "outputs": [
    {
     "data": {
      "text/plain": [
       "16.0"
      ]
     },
     "execution_count": 38,
     "metadata": {},
     "output_type": "execute_result"
    }
   ],
   "source": [
    "np.percentile(a,0)"
   ]
  },
  {
   "cell_type": "code",
   "execution_count": 39,
   "id": "7456b84e",
   "metadata": {},
   "outputs": [
    {
     "data": {
      "text/plain": [
       "83.0"
      ]
     },
     "execution_count": 39,
     "metadata": {},
     "output_type": "execute_result"
    }
   ],
   "source": [
    "np.percentile(a,50)"
   ]
  },
  {
   "cell_type": "markdown",
   "id": "1cda7b48",
   "metadata": {},
   "source": [
    "# np.hitogram()"
   ]
  },
  {
   "cell_type": "code",
   "execution_count": 40,
   "id": "b123ce0b",
   "metadata": {},
   "outputs": [
    {
     "data": {
      "text/plain": [
       "array([138,  80,  41, 130,  21, 135,  16, 180,  83, 113,  43, 171, 163,\n",
       "        78,  17])"
      ]
     },
     "execution_count": 40,
     "metadata": {},
     "output_type": "execute_result"
    }
   ],
   "source": [
    "a"
   ]
  },
  {
   "cell_type": "code",
   "execution_count": 41,
   "id": "88120983",
   "metadata": {},
   "outputs": [
    {
     "data": {
      "text/plain": [
       "(array([1, 2, 1, 2, 1, 3, 0, 2, 1], dtype=int64),\n",
       " array([ 20,  40,  60,  80, 100, 120, 140, 160, 180, 200]))"
      ]
     },
     "execution_count": 41,
     "metadata": {},
     "output_type": "execute_result"
    }
   ],
   "source": [
    "np.histogram(a,bins=[20,40,60,80,100,120,140,160,180,200])"
   ]
  },
  {
   "cell_type": "markdown",
   "id": "637424b5",
   "metadata": {},
   "source": [
    "# np.corrcoef()"
   ]
  },
  {
   "cell_type": "code",
   "execution_count": 42,
   "id": "08e4a8db",
   "metadata": {},
   "outputs": [
    {
     "data": {
      "text/plain": [
       "1.0"
      ]
     },
     "execution_count": 42,
     "metadata": {},
     "output_type": "execute_result"
    }
   ],
   "source": [
    "np.corrcoef(a)"
   ]
  },
  {
   "cell_type": "code",
   "execution_count": 43,
   "id": "68be9084",
   "metadata": {},
   "outputs": [],
   "source": [
    "salary=np.array([2000,40000,400000,30000])\n",
    "experience=np.array([1,3,12,5])"
   ]
  },
  {
   "cell_type": "code",
   "execution_count": 44,
   "id": "05a7d1a4",
   "metadata": {},
   "outputs": [
    {
     "data": {
      "text/plain": [
       "array([[1.        , 0.95726401],\n",
       "       [0.95726401, 1.        ]])"
      ]
     },
     "execution_count": 44,
     "metadata": {},
     "output_type": "execute_result"
    }
   ],
   "source": [
    "np.corrcoef(salary,experience)"
   ]
  },
  {
   "cell_type": "markdown",
   "id": "9af5c6f5",
   "metadata": {},
   "source": [
    "# np.isin()"
   ]
  },
  {
   "cell_type": "code",
   "execution_count": 45,
   "id": "a98551c9",
   "metadata": {},
   "outputs": [
    {
     "data": {
      "text/plain": [
       "array([138,  80,  41, 130,  21, 135,  16, 180,  83, 113,  43, 171, 163,\n",
       "        78,  17])"
      ]
     },
     "execution_count": 45,
     "metadata": {},
     "output_type": "execute_result"
    }
   ],
   "source": [
    "a"
   ]
  },
  {
   "cell_type": "code",
   "execution_count": 46,
   "id": "a28d45a7",
   "metadata": {},
   "outputs": [
    {
     "data": {
      "text/plain": [
       "array([False, False, False, False, False, False, False, False, False,\n",
       "       False, False, False, False, False, False])"
      ]
     },
     "execution_count": 46,
     "metadata": {},
     "output_type": "execute_result"
    }
   ],
   "source": [
    "item=[20,58,99,191,44,45,150]\n",
    "np.isin(a,item)"
   ]
  },
  {
   "cell_type": "code",
   "execution_count": 47,
   "id": "83dd0118",
   "metadata": {},
   "outputs": [
    {
     "data": {
      "text/plain": [
       "array([], dtype=int32)"
      ]
     },
     "execution_count": 47,
     "metadata": {},
     "output_type": "execute_result"
    }
   ],
   "source": [
    "a[np.isin(a,item)]"
   ]
  },
  {
   "cell_type": "markdown",
   "id": "e667f9ce",
   "metadata": {},
   "source": [
    "# np.flip()"
   ]
  },
  {
   "cell_type": "code",
   "execution_count": 48,
   "id": "ea226eca",
   "metadata": {},
   "outputs": [
    {
     "data": {
      "text/plain": [
       "array([138,  80,  41, 130,  21, 135,  16, 180,  83, 113,  43, 171, 163,\n",
       "        78,  17])"
      ]
     },
     "execution_count": 48,
     "metadata": {},
     "output_type": "execute_result"
    }
   ],
   "source": [
    "a"
   ]
  },
  {
   "cell_type": "code",
   "execution_count": 49,
   "id": "00cf4cfc",
   "metadata": {},
   "outputs": [
    {
     "data": {
      "text/plain": [
       "array([ 17,  78, 163, 171,  43, 113,  83, 180,  16, 135,  21, 130,  41,\n",
       "        80, 138])"
      ]
     },
     "execution_count": 49,
     "metadata": {},
     "output_type": "execute_result"
    }
   ],
   "source": [
    "np.flip(a)"
   ]
  },
  {
   "cell_type": "code",
   "execution_count": 50,
   "id": "aac1683d",
   "metadata": {},
   "outputs": [
    {
     "data": {
      "text/plain": [
       "array([[88, 75, 54, 73],\n",
       "       [79, 88, 97, 84],\n",
       "       [60, 55, 65, 96],\n",
       "       [58, 71, 61, 88],\n",
       "       [88, 70, 91, 58],\n",
       "       [99, 57, 99, 87]])"
      ]
     },
     "execution_count": 50,
     "metadata": {},
     "output_type": "execute_result"
    }
   ],
   "source": [
    "b"
   ]
  },
  {
   "cell_type": "code",
   "execution_count": 51,
   "id": "64c800f6",
   "metadata": {},
   "outputs": [
    {
     "data": {
      "text/plain": [
       "array([[99, 57, 99, 87],\n",
       "       [88, 70, 91, 58],\n",
       "       [58, 71, 61, 88],\n",
       "       [60, 55, 65, 96],\n",
       "       [79, 88, 97, 84],\n",
       "       [88, 75, 54, 73]])"
      ]
     },
     "execution_count": 51,
     "metadata": {},
     "output_type": "execute_result"
    }
   ],
   "source": [
    "np.flip(b,axis=0)"
   ]
  },
  {
   "cell_type": "markdown",
   "id": "b4aa3d4e",
   "metadata": {},
   "source": [
    "# np.put()"
   ]
  },
  {
   "cell_type": "code",
   "execution_count": 52,
   "id": "9a216093",
   "metadata": {},
   "outputs": [
    {
     "data": {
      "text/plain": [
       "array([138,  80,  41, 130,  21, 135,  16, 180,  83, 113,  43, 171, 163,\n",
       "        78,  17])"
      ]
     },
     "execution_count": 52,
     "metadata": {},
     "output_type": "execute_result"
    }
   ],
   "source": [
    "a"
   ]
  },
  {
   "cell_type": "code",
   "execution_count": 53,
   "id": "68c187d3",
   "metadata": {},
   "outputs": [],
   "source": [
    "np.put(a,[0,1],[110,530])"
   ]
  },
  {
   "cell_type": "code",
   "execution_count": 54,
   "id": "b41a38ab",
   "metadata": {},
   "outputs": [
    {
     "data": {
      "text/plain": [
       "array([110, 530,  41, 130,  21, 135,  16, 180,  83, 113,  43, 171, 163,\n",
       "        78,  17])"
      ]
     },
     "execution_count": 54,
     "metadata": {},
     "output_type": "execute_result"
    }
   ],
   "source": [
    "a"
   ]
  },
  {
   "cell_type": "markdown",
   "id": "c47ad051",
   "metadata": {},
   "source": [
    "put() is used for the putting new item in the existing places."
   ]
  },
  {
   "cell_type": "markdown",
   "id": "d0e35e4d",
   "metadata": {},
   "source": [
    "# np.delete()"
   ]
  },
  {
   "cell_type": "code",
   "execution_count": 55,
   "id": "1261c419",
   "metadata": {},
   "outputs": [
    {
     "data": {
      "text/plain": [
       "array([110, 530,  41, 130,  21, 135,  16, 180,  83, 113,  43, 171, 163,\n",
       "        78,  17])"
      ]
     },
     "execution_count": 55,
     "metadata": {},
     "output_type": "execute_result"
    }
   ],
   "source": [
    "a"
   ]
  },
  {
   "cell_type": "code",
   "execution_count": 56,
   "id": "7bd6ad1d",
   "metadata": {},
   "outputs": [
    {
     "data": {
      "text/plain": [
       "array([530,  41, 130,  21, 135,  16, 180,  83, 113,  43, 171, 163,  78,\n",
       "        17])"
      ]
     },
     "execution_count": 56,
     "metadata": {},
     "output_type": "execute_result"
    }
   ],
   "source": [
    "np.delete(a,0)"
   ]
  },
  {
   "cell_type": "code",
   "execution_count": 57,
   "id": "05c7e44c",
   "metadata": {},
   "outputs": [
    {
     "data": {
      "text/plain": [
       "array([530,  41, 135,  16, 180,  83, 113,  43, 171, 163,  78,  17])"
      ]
     },
     "execution_count": 57,
     "metadata": {},
     "output_type": "execute_result"
    }
   ],
   "source": [
    "np.delete(a,[0,3,4])"
   ]
  },
  {
   "cell_type": "markdown",
   "id": "18845c53",
   "metadata": {},
   "source": [
    "# set functions"
   ]
  },
  {
   "cell_type": "markdown",
   "id": "55a10e6b",
   "metadata": {},
   "source": [
    "1. np.union1d()"
   ]
  },
  {
   "cell_type": "code",
   "execution_count": 58,
   "id": "25219b4e",
   "metadata": {},
   "outputs": [],
   "source": [
    "m=np.array([3,4,5,6,7,8])\n",
    "n=np.array([1,2,3,4,5,6])"
   ]
  },
  {
   "cell_type": "code",
   "execution_count": 59,
   "id": "2f467c44",
   "metadata": {},
   "outputs": [
    {
     "data": {
      "text/plain": [
       "array([1, 2, 3, 4, 5, 6, 7, 8])"
      ]
     },
     "execution_count": 59,
     "metadata": {},
     "output_type": "execute_result"
    }
   ],
   "source": [
    "np.union1d(m,n)"
   ]
  },
  {
   "cell_type": "markdown",
   "id": "799bcdc9",
   "metadata": {},
   "source": [
    "# 2. np.intersect1d()"
   ]
  },
  {
   "cell_type": "code",
   "execution_count": 60,
   "id": "85e0a26b",
   "metadata": {},
   "outputs": [
    {
     "data": {
      "text/plain": [
       "array([3, 4, 5, 6])"
      ]
     },
     "execution_count": 60,
     "metadata": {},
     "output_type": "execute_result"
    }
   ],
   "source": [
    "np.intersect1d(m,n)"
   ]
  },
  {
   "cell_type": "markdown",
   "id": "de826c07",
   "metadata": {},
   "source": [
    "# 3. np.setdiff1d()"
   ]
  },
  {
   "cell_type": "code",
   "execution_count": 61,
   "id": "d675ac1e",
   "metadata": {},
   "outputs": [
    {
     "data": {
      "text/plain": [
       "array([7, 8])"
      ]
     },
     "execution_count": 61,
     "metadata": {},
     "output_type": "execute_result"
    }
   ],
   "source": [
    "np.setdiff1d(m,n)"
   ]
  },
  {
   "cell_type": "markdown",
   "id": "6f6e6975",
   "metadata": {},
   "source": [
    "# 4. np.setxor1d()"
   ]
  },
  {
   "cell_type": "code",
   "execution_count": 62,
   "id": "fc3966a5",
   "metadata": {},
   "outputs": [
    {
     "data": {
      "text/plain": [
       "array([1, 2, 7, 8])"
      ]
     },
     "execution_count": 62,
     "metadata": {},
     "output_type": "execute_result"
    }
   ],
   "source": [
    "np.setxor1d(m,n)"
   ]
  },
  {
   "cell_type": "markdown",
   "id": "36c13855",
   "metadata": {},
   "source": [
    "# 5. np.in1d()"
   ]
  },
  {
   "cell_type": "code",
   "execution_count": 63,
   "id": "14ffdaaf",
   "metadata": {},
   "outputs": [
    {
     "data": {
      "text/plain": [
       "array([False,  True, False, False, False, False])"
      ]
     },
     "execution_count": 63,
     "metadata": {},
     "output_type": "execute_result"
    }
   ],
   "source": [
    "np.in1d(m,4)"
   ]
  },
  {
   "cell_type": "markdown",
   "id": "0b35fa4c",
   "metadata": {},
   "source": [
    "# np.clip()"
   ]
  },
  {
   "cell_type": "code",
   "execution_count": 64,
   "id": "2a82d953",
   "metadata": {},
   "outputs": [
    {
     "data": {
      "text/plain": [
       "array([110, 530,  41, 130,  21, 135,  16, 180,  83, 113,  43, 171, 163,\n",
       "        78,  17])"
      ]
     },
     "execution_count": 64,
     "metadata": {},
     "output_type": "execute_result"
    }
   ],
   "source": [
    "a"
   ]
  },
  {
   "cell_type": "code",
   "execution_count": 65,
   "id": "c9239a2a",
   "metadata": {},
   "outputs": [
    {
     "data": {
      "text/plain": [
       "array([100, 100,  41, 100,  21, 100,  16, 100,  83, 100,  43, 100, 100,\n",
       "        78,  17])"
      ]
     },
     "execution_count": 65,
     "metadata": {},
     "output_type": "execute_result"
    }
   ],
   "source": [
    "np.clip(a,a_min=1,a_max=100)"
   ]
  },
  {
   "cell_type": "markdown",
   "id": "a9db3b84",
   "metadata": {},
   "source": [
    "by this function we can clip the values in the given range"
   ]
  },
  {
   "cell_type": "code",
   "execution_count": null,
   "id": "d8387f4d",
   "metadata": {},
   "outputs": [],
   "source": []
  }
 ],
 "metadata": {
  "kernelspec": {
   "display_name": "Python 3 (ipykernel)",
   "language": "python",
   "name": "python3"
  },
  "language_info": {
   "codemirror_mode": {
    "name": "ipython",
    "version": 3
   },
   "file_extension": ".py",
   "mimetype": "text/x-python",
   "name": "python",
   "nbconvert_exporter": "python",
   "pygments_lexer": "ipython3",
   "version": "3.9.7"
  }
 },
 "nbformat": 4,
 "nbformat_minor": 5
}
