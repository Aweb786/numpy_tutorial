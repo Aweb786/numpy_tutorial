{
 "cells": [
  {
   "cell_type": "code",
   "execution_count": null,
   "id": "8d845c95",
   "metadata": {},
   "outputs": [],
   "source": []
  },
  {
   "cell_type": "code",
   "execution_count": null,
   "id": "2fd8fb04",
   "metadata": {},
   "outputs": [],
   "source": []
  },
  {
   "cell_type": "code",
   "execution_count": null,
   "id": "194d2d86",
   "metadata": {},
   "outputs": [],
   "source": []
  },
  {
   "cell_type": "code",
   "execution_count": null,
   "id": "0aa3b966",
   "metadata": {},
   "outputs": [],
   "source": []
  },
  {
   "cell_type": "markdown",
   "id": "c4f23689",
   "metadata": {},
   "source": [
    "# CREATING RANDOM NUMBERS"
   ]
  },
  {
   "cell_type": "markdown",
   "id": "a3f17e8d",
   "metadata": {},
   "source": [
    "# (1) RAND()"
   ]
  },
  {
   "cell_type": "code",
   "execution_count": 6,
   "id": "bb1198b3",
   "metadata": {},
   "outputs": [
    {
     "name": "stdout",
     "output_type": "stream",
     "text": [
      "[0.08648433 0.18977911 0.10253374 0.23942957]\n"
     ]
    }
   ],
   "source": [
    "import numpy as np\n",
    "\n",
    "var=np.random.rand(4)\n",
    "print(var)"
   ]
  },
  {
   "cell_type": "code",
   "execution_count": 8,
   "id": "44f484c2",
   "metadata": {},
   "outputs": [
    {
     "name": "stdout",
     "output_type": "stream",
     "text": [
      "[[0.41392071 0.12826469 0.59137414 0.19854264 0.16800302]\n",
      " [0.03466033 0.17849742 0.86926946 0.9460045  0.53074424]\n",
      " [0.34323316 0.1487158  0.66361778 0.45023047 0.16882887]\n",
      " [0.82216262 0.59430407 0.22584458 0.03554681 0.9877333 ]]\n"
     ]
    }
   ],
   "source": [
    "var1=np.random.rand(4,5)\n",
    "print(var1)"
   ]
  },
  {
   "cell_type": "markdown",
   "id": "7e930267",
   "metadata": {},
   "source": [
    "# (2) randn()"
   ]
  },
  {
   "cell_type": "code",
   "execution_count": 11,
   "id": "35e01508",
   "metadata": {},
   "outputs": [
    {
     "name": "stdout",
     "output_type": "stream",
     "text": [
      "[ 0.75653325  1.56214105 -1.1215292   0.7333373   0.26963546  0.36299089\n",
      " -1.62519417]\n"
     ]
    }
   ],
   "source": [
    "import numpy as np\n",
    "\n",
    "var3=np.random.randn(7)\n",
    "print(var3)"
   ]
  },
  {
   "cell_type": "code",
   "execution_count": 12,
   "id": "67bf33f5",
   "metadata": {},
   "outputs": [
    {
     "name": "stdout",
     "output_type": "stream",
     "text": [
      "[[-0.8268105  -0.40434435 -0.42500237  0.54251375 -0.77479136  1.93695287\n",
      "   0.65600141]\n",
      " [-0.6710117  -0.36231782  0.15624239  0.19885461  0.85993411  0.10528097\n",
      "  -1.32320372]\n",
      " [ 0.8917937  -0.58812792 -0.29509501  0.18567586 -1.32056678 -1.6140772\n",
      "   1.62235391]\n",
      " [-0.11209284 -0.93328813 -0.43776853  0.53102192 -1.42857323  1.42300411\n",
      "   0.06655336]\n",
      " [-1.16218485 -1.88681183  0.46342688 -1.01260246  0.37500163 -0.12696881\n",
      "   0.59927479]]\n"
     ]
    }
   ],
   "source": [
    "var4=np.random.randn(5,7)\n",
    "print(var4)"
   ]
  },
  {
   "cell_type": "markdown",
   "id": "64fc9bbf",
   "metadata": {},
   "source": [
    "# (3) ranf()"
   ]
  },
  {
   "cell_type": "code",
   "execution_count": 13,
   "id": "f0f8bfc1",
   "metadata": {},
   "outputs": [
    {
     "name": "stdout",
     "output_type": "stream",
     "text": [
      "[0.04960249 0.89836299 0.77685182 0.33901914 0.19570738 0.52452033\n",
      " 0.01261327]\n"
     ]
    }
   ],
   "source": [
    "import numpy as np\n",
    "\n",
    "var5=np.random.ranf(7)\n",
    "print(var5)"
   ]
  },
  {
   "cell_type": "code",
   "execution_count": 14,
   "id": "04cdd2ce",
   "metadata": {},
   "outputs": [
    {
     "ename": "TypeError",
     "evalue": "random_sample() takes at most 1 positional argument (2 given)",
     "output_type": "error",
     "traceback": [
      "\u001b[1;31m---------------------------------------------------------------------------\u001b[0m",
      "\u001b[1;31mTypeError\u001b[0m                                 Traceback (most recent call last)",
      "\u001b[1;32m~\\AppData\\Local\\Temp/ipykernel_25440/4185333429.py\u001b[0m in \u001b[0;36m<module>\u001b[1;34m\u001b[0m\n\u001b[1;32m----> 1\u001b[1;33m \u001b[0mvar6\u001b[0m\u001b[1;33m=\u001b[0m\u001b[0mnp\u001b[0m\u001b[1;33m.\u001b[0m\u001b[0mrandom\u001b[0m\u001b[1;33m.\u001b[0m\u001b[0mranf\u001b[0m\u001b[1;33m(\u001b[0m\u001b[1;36m3\u001b[0m\u001b[1;33m,\u001b[0m\u001b[1;36m4\u001b[0m\u001b[1;33m)\u001b[0m\u001b[1;33m\u001b[0m\u001b[1;33m\u001b[0m\u001b[0m\n\u001b[0m\u001b[0;32m      2\u001b[0m \u001b[0mprint\u001b[0m\u001b[1;33m(\u001b[0m\u001b[0mvar6\u001b[0m\u001b[1;33m)\u001b[0m\u001b[1;33m\u001b[0m\u001b[1;33m\u001b[0m\u001b[0m\n",
      "\u001b[1;32mmtrand.pyx\u001b[0m in \u001b[0;36mnumpy.random.mtrand.ranf\u001b[1;34m()\u001b[0m\n",
      "\u001b[1;32mmtrand.pyx\u001b[0m in \u001b[0;36mnumpy.random.mtrand.RandomState.random_sample\u001b[1;34m()\u001b[0m\n",
      "\u001b[1;31mTypeError\u001b[0m: random_sample() takes at most 1 positional argument (2 given)"
     ]
    }
   ],
   "source": [
    "var6=np.random.ranf(3,4)\n",
    "print(var6)"
   ]
  },
  {
   "cell_type": "markdown",
   "id": "47c9f3c4",
   "metadata": {},
   "source": [
    "# (4) randint()"
   ]
  },
  {
   "cell_type": "code",
   "execution_count": 15,
   "id": "0c5c1ceb",
   "metadata": {},
   "outputs": [
    {
     "name": "stdout",
     "output_type": "stream",
     "text": [
      "0\n"
     ]
    }
   ],
   "source": [
    "import numpy as np\n",
    "\n",
    "var7=np.random.randint(7)\n",
    "print(var7)"
   ]
  },
  {
   "cell_type": "code",
   "execution_count": 16,
   "id": "f84c65ed",
   "metadata": {},
   "outputs": [
    {
     "name": "stdout",
     "output_type": "stream",
     "text": [
      "[ 9 30 26  9 18 16 31 16 17 29 37 29 25 20 19 20 10  9 17 10 29 32 25 15\n",
      " 21 16 36 11 36 33 38 13 15  7  7  7 35  8 22 26  9 15 31 21 30 20 17  7\n",
      " 20 25 17  9 37 34 11 25 33 35 25 10 18 27 21 18 13 34 28 30 33 35 20 22\n",
      " 26 39  8 27 12 13 25 15 32 16 23 36 12 11 18 30 12 10 33 31 28 22 12 34\n",
      " 16 26 26 28 23 18 30 24  7 28 22  7 39 34 25 11  9 33 32 32 26 12 21  8\n",
      " 31 27 23 17 25 31 33 34 17 27 24 11 33 21 30 18 19 13 14 28 37 22 37 33\n",
      " 29 15 23 29 25 29 37  7 25 24 32 11 32 28  8 29 13 24 13 26 24 20 30 36\n",
      " 28 23 22 17 10 12 37  7 32 25 10 39 31 26  9 11 17 30 20 29 33 35 11 20\n",
      " 24 20 12 18 23 22 16 19 39 25 19 39 31 28 37 32 36 18 15 33 33 21 21 19\n",
      " 18  9 26 24 22 37 38  8 14 14 22 23 29 30 33 31 16 36 28 10 11 13 34 26\n",
      "  7 12 30 12 32  7 27 28 28  8 21 34 38 23 15 10 10 13 34 28  8 20 31 18\n",
      " 38 13 25 17 32  8 32 22  9 34 26 13 10 25 27 10  8 17 39 25 30 31 23 37\n",
      " 21 27 27 13 14 32 29 28 11 33 24  8 22 31 33 30 35 12 24  7 36 28 39 23\n",
      " 16 31 12 17  9 23 23 16 11 31 24 25 18 24 37  7 36 30 31 32 24 13 15 22\n",
      "  8 12 26 39 11  9 17 26 30 32 15 33 37 34 24 30 13 13 28 37 12 11 35 38\n",
      " 19 26 33 11 39 32 16 33 28 20 18 16  9 16 36 17 36 33 19 36 21  7 30 20\n",
      " 39 11  8 13 25 32 31 23 30 35 33 10  8  9 10 27 25 38  8  8 33 11 17 23\n",
      " 13 35 10 36 31 19 37 25 19 24 16 34 19 15 29 11 38  8 26 38 21 11 26 15\n",
      " 32 35 34 20 26  9 39 11 11 24 24 26 37 39 19 22 29 27 16 32 10 21 21 34\n",
      " 33 16 33 35 39 27 39 10 17 39 22 35 38 32 16 18 37  8 14 26 12 38 14 39\n",
      " 29 32 22  7 18 18 39 30 10 28  9  8 17 29 20 20 32 15 11 32]\n"
     ]
    }
   ],
   "source": [
    "import numpy as np\n",
    "\n",
    "var8=np.random.randint(7,40,500)\n",
    "print(var8)"
   ]
  },
  {
   "cell_type": "markdown",
   "id": "982112fd",
   "metadata": {},
   "source": [
    "# DATA TYPES IN NUMPY"
   ]
  },
  {
   "cell_type": "code",
   "execution_count": 18,
   "id": "a23dac22",
   "metadata": {},
   "outputs": [
    {
     "name": "stdout",
     "output_type": "stream",
     "text": [
      "data type is int32\n"
     ]
    }
   ],
   "source": [
    "import numpy as np\n",
    "var9=np.array([2,4,5,6])\n",
    "print(\"data type is\",var9.dtype)"
   ]
  },
  {
   "cell_type": "code",
   "execution_count": 19,
   "id": "8597c7ef",
   "metadata": {},
   "outputs": [
    {
     "name": "stdout",
     "output_type": "stream",
     "text": [
      "data type is float64\n"
     ]
    }
   ],
   "source": [
    "import numpy as np\n",
    "var10=np.array([2.6,4.4,5.7,6.9])\n",
    "print(\"data type is\",var10.dtype)"
   ]
  },
  {
   "cell_type": "code",
   "execution_count": 20,
   "id": "51834364",
   "metadata": {},
   "outputs": [
    {
     "name": "stdout",
     "output_type": "stream",
     "text": [
      "data type is <U1\n"
     ]
    }
   ],
   "source": [
    "import numpy as np\n",
    "var11=np.array([\"A\",\"B\",\"C\",\"D\"])\n",
    "print(\"data type is\",var11.dtype)"
   ]
  },
  {
   "cell_type": "code",
   "execution_count": 21,
   "id": "da2a58e3",
   "metadata": {},
   "outputs": [
    {
     "name": "stdout",
     "output_type": "stream",
     "text": [
      "data type is <U11\n"
     ]
    }
   ],
   "source": [
    "import numpy as np\n",
    "var12=np.array([\"A\",\"B\",\"C\",\"D\",1,2,3,4])\n",
    "print(\"data type is\",var12.dtype)"
   ]
  },
  {
   "cell_type": "code",
   "execution_count": 24,
   "id": "fd215026",
   "metadata": {},
   "outputs": [
    {
     "name": "stdout",
     "output_type": "stream",
     "text": [
      "int32\n",
      "[1 2 3 4]\n"
     ]
    }
   ],
   "source": [
    "x=np.array([1,2,3,4])\n",
    "print(x.dtype)\n",
    "print(x)"
   ]
  },
  {
   "cell_type": "markdown",
   "id": "69330e4e",
   "metadata": {},
   "source": [
    "# converting this data type into the the int8"
   ]
  },
  {
   "cell_type": "code",
   "execution_count": 25,
   "id": "3dec899f",
   "metadata": {},
   "outputs": [
    {
     "name": "stdout",
     "output_type": "stream",
     "text": [
      "int8\n",
      "[1 2 3 4]\n"
     ]
    }
   ],
   "source": [
    "y=np.array([1,2,3,4],dtype=np.int8)\n",
    "print(y.dtype)\n",
    "print(y)"
   ]
  },
  {
   "cell_type": "code",
   "execution_count": 26,
   "id": "31441db9",
   "metadata": {},
   "outputs": [
    {
     "name": "stdout",
     "output_type": "stream",
     "text": [
      "float32\n",
      "[1. 2. 3. 4.]\n"
     ]
    }
   ],
   "source": [
    "z=np.array([1,2,3,4],dtype=\"f\")\n",
    "print(z.dtype)\n",
    "print(z)\n"
   ]
  },
  {
   "cell_type": "markdown",
   "id": "fb4804bd",
   "metadata": {},
   "source": [
    "# SHAPE"
   ]
  },
  {
   "cell_type": "code",
   "execution_count": 29,
   "id": "b442a911",
   "metadata": {},
   "outputs": [
    {
     "name": "stdout",
     "output_type": "stream",
     "text": [
      "[[2 4 1 3]\n",
      " [5 6 7 8]]\n",
      "\n",
      "(2, 4)\n"
     ]
    }
   ],
   "source": [
    "import numpy as np\n",
    "a=np.array([[2,4,1,3],[5,6,7,8]])\n",
    "print(a)\n",
    "print()\n",
    "print(a.shape)"
   ]
  },
  {
   "cell_type": "code",
   "execution_count": 30,
   "id": "284e0d49",
   "metadata": {},
   "outputs": [
    {
     "name": "stdout",
     "output_type": "stream",
     "text": [
      "[[[[1 3 4 6]]]]\n"
     ]
    }
   ],
   "source": [
    "b=np.array([1,3,4,6],ndmin=4)\n",
    "print(b)\n"
   ]
  },
  {
   "cell_type": "markdown",
   "id": "4f2a2131",
   "metadata": {},
   "source": [
    "# RESHAPE"
   ]
  },
  {
   "cell_type": "code",
   "execution_count": 32,
   "id": "e8b74ba5",
   "metadata": {},
   "outputs": [
    {
     "name": "stdout",
     "output_type": "stream",
     "text": [
      "[1 2 3 4 5 6]\n",
      "[[1 2]\n",
      " [3 4]\n",
      " [5 6]]\n"
     ]
    }
   ],
   "source": [
    "import numpy as np\n",
    "c=np.array([1,2,3,4,5,6])\n",
    "x=c.reshape(3,2)\n",
    "print(c)\n",
    "print(x)"
   ]
  },
  {
   "cell_type": "code",
   "execution_count": 34,
   "id": "f5262524",
   "metadata": {},
   "outputs": [
    {
     "name": "stdout",
     "output_type": "stream",
     "text": [
      "[ 1  2  3  4  5  6  7  8  9 10 11 12]\n",
      "[[[ 1  2]\n",
      "  [ 3  4]]\n",
      "\n",
      " [[ 5  6]\n",
      "  [ 7  8]]\n",
      "\n",
      " [[ 9 10]\n",
      "  [11 12]]]\n"
     ]
    }
   ],
   "source": [
    "import numpy as np\n",
    "c=np.array([1,2,3,4,5,6,7,8,9,10,11,12])\n",
    "x=c.reshape(3,2,2)\n",
    "print(c)\n",
    "print(x)"
   ]
  },
  {
   "cell_type": "code",
   "execution_count": 35,
   "id": "70e7b2a7",
   "metadata": {},
   "outputs": [
    {
     "name": "stdout",
     "output_type": "stream",
     "text": [
      "[ 1  2  3  4  5  6  7  8  9 10 11 12]\n",
      "\n",
      "[[[ 1  2]\n",
      "  [ 3  4]]\n",
      "\n",
      " [[ 5  6]\n",
      "  [ 7  8]]\n",
      "\n",
      " [[ 9 10]\n",
      "  [11 12]]]\n",
      "\n",
      "[ 1  2  3  4  5  6  7  8  9 10 11 12]\n"
     ]
    }
   ],
   "source": [
    "import numpy as np\n",
    "c=np.array([1,2,3,4,5,6,7,8,9,10,11,12])\n",
    "x=c.reshape(3,2,2)\n",
    "z=x.reshape(-1)\n",
    "print(c)\n",
    "print()\n",
    "print(x)\n",
    "print()\n",
    "print(z)"
   ]
  },
  {
   "cell_type": "markdown",
   "id": "d7e71520",
   "metadata": {},
   "source": [
    "# ARITHMETIC OPERATION USING NUMPY"
   ]
  },
  {
   "cell_type": "code",
   "execution_count": 36,
   "id": "0e7c13ca",
   "metadata": {},
   "outputs": [
    {
     "name": "stdout",
     "output_type": "stream",
     "text": [
      "[4 6 7 8]\n"
     ]
    }
   ],
   "source": [
    "import numpy as np\n",
    "var=np.array([1,3,4,5])\n",
    "var1=var+3\n",
    "print(var1)\n"
   ]
  },
  {
   "cell_type": "code",
   "execution_count": 37,
   "id": "fcd72e97",
   "metadata": {},
   "outputs": [
    {
     "name": "stdout",
     "output_type": "stream",
     "text": [
      "[ 5  8 10 12]\n"
     ]
    }
   ],
   "source": [
    "import numpy as np\n",
    "var2=np.array([1,3,4,5])\n",
    "var3=np.array([4,5,6,7])\n",
    "var4=var2 + var3\n",
    "print(var4)\n"
   ]
  },
  {
   "cell_type": "code",
   "execution_count": 44,
   "id": "5ec12231",
   "metadata": {},
   "outputs": [
    {
     "name": "stdout",
     "output_type": "stream",
     "text": [
      "[ 5  8 10 12]\n"
     ]
    }
   ],
   "source": [
    "import numpy as np\n",
    "var2=np.array([1,3,4,5])\n",
    "var3=np.array([4,5,6,7])\n",
    "var4=np.add(var2,var3)\n",
    "print(var4)\n"
   ]
  },
  {
   "cell_type": "code",
   "execution_count": 38,
   "id": "0541cf65",
   "metadata": {},
   "outputs": [
    {
     "name": "stdout",
     "output_type": "stream",
     "text": [
      "[-2  0  1  2]\n"
     ]
    }
   ],
   "source": [
    "import numpy as np\n",
    "var=np.array([1,3,4,5])\n",
    "var1=var-3\n",
    "print(var1)\n"
   ]
  },
  {
   "cell_type": "code",
   "execution_count": 39,
   "id": "39841d27",
   "metadata": {},
   "outputs": [
    {
     "name": "stdout",
     "output_type": "stream",
     "text": [
      "[-3 -2 -2 -2]\n"
     ]
    }
   ],
   "source": [
    "import numpy as np\n",
    "var2=np.array([1,3,4,5])\n",
    "var3=np.array([4,5,6,7])\n",
    "var4=var2 - var3\n",
    "print(var4)\n"
   ]
  },
  {
   "cell_type": "code",
   "execution_count": 40,
   "id": "4deb1e9a",
   "metadata": {},
   "outputs": [
    {
     "name": "stdout",
     "output_type": "stream",
     "text": [
      "[ 4 15 24 35]\n"
     ]
    }
   ],
   "source": [
    "import numpy as np\n",
    "var2=np.array([1,3,4,5])\n",
    "var3=np.array([4,5,6,7])\n",
    "var4=var2 * var3\n",
    "print(var4)\n"
   ]
  },
  {
   "cell_type": "code",
   "execution_count": 41,
   "id": "9b90b106",
   "metadata": {},
   "outputs": [
    {
     "name": "stdout",
     "output_type": "stream",
     "text": [
      "[ 3  9 12 15]\n"
     ]
    }
   ],
   "source": [
    "import numpy as np\n",
    "var=np.array([1,3,4,5])\n",
    "var1=var*3\n",
    "print(var1)\n"
   ]
  },
  {
   "cell_type": "code",
   "execution_count": 42,
   "id": "72a000a1",
   "metadata": {},
   "outputs": [
    {
     "name": "stdout",
     "output_type": "stream",
     "text": [
      "[0.33333333 1.         1.33333333 1.66666667]\n"
     ]
    }
   ],
   "source": [
    "import numpy as np\n",
    "var=np.array([1,3,4,5])\n",
    "var1=var/3\n",
    "print(var1)\n"
   ]
  },
  {
   "cell_type": "code",
   "execution_count": 43,
   "id": "87d2fa26",
   "metadata": {},
   "outputs": [
    {
     "name": "stdout",
     "output_type": "stream",
     "text": [
      "[1 0 1 2]\n"
     ]
    }
   ],
   "source": [
    "import numpy as np\n",
    "var=np.array([1,3,4,5])\n",
    "var1=var%3\n",
    "print(var1)\n"
   ]
  },
  {
   "cell_type": "code",
   "execution_count": 45,
   "id": "f581a0fa",
   "metadata": {},
   "outputs": [
    {
     "name": "stdout",
     "output_type": "stream",
     "text": [
      "[[1 2 3 4]\n",
      " [5 6 7 8]]\n",
      "\n",
      "[[ 9 10 11 12]\n",
      " [ 1  6  7  8]]\n",
      "\n",
      "[[10 12 14 16]\n",
      " [ 6 12 14 16]]\n"
     ]
    }
   ],
   "source": [
    "var2=np.array([[1,2,3,4],[5,6,7,8]])\n",
    "var3=np.array([[9,10,11,12],[1,6,7,8]])\n",
    "print(var2)\n",
    "print()\n",
    "print(var3)\n",
    "print()\n",
    "var4=var2+var3\n",
    "print(var4)\n"
   ]
  },
  {
   "cell_type": "code",
   "execution_count": 46,
   "id": "fe8da28e",
   "metadata": {},
   "outputs": [
    {
     "name": "stdout",
     "output_type": "stream",
     "text": [
      "[[1 2 3 4]\n",
      " [5 6 7 8]]\n",
      "\n",
      "[[ 9 10 11 12]\n",
      " [ 1  6  7  8]]\n",
      "\n",
      "[[-8 -8 -8 -8]\n",
      " [ 4  0  0  0]]\n"
     ]
    }
   ],
   "source": [
    "var2=np.array([[1,2,3,4],[5,6,7,8]])\n",
    "var3=np.array([[9,10,11,12],[1,6,7,8]])\n",
    "print(var2)\n",
    "print()\n",
    "print(var3)\n",
    "print()\n",
    "var4=var2-var3\n",
    "print(var4)"
   ]
  },
  {
   "cell_type": "code",
   "execution_count": 47,
   "id": "9fb60b04",
   "metadata": {},
   "outputs": [
    {
     "name": "stdout",
     "output_type": "stream",
     "text": [
      "[[1 2 3 4]\n",
      " [5 6 7 8]]\n",
      "\n",
      "[[ 9 10 11 12]\n",
      " [ 1  6  7  8]]\n",
      "\n",
      "[[ 9 20 33 48]\n",
      " [ 5 36 49 64]]\n"
     ]
    }
   ],
   "source": [
    "var2=np.array([[1,2,3,4],[5,6,7,8]])\n",
    "var3=np.array([[9,10,11,12],[1,6,7,8]])\n",
    "print(var2)\n",
    "print()\n",
    "print(var3)\n",
    "print()\n",
    "var4=var2*var3\n",
    "print(var4)"
   ]
  },
  {
   "cell_type": "markdown",
   "id": "d8f22ae6",
   "metadata": {},
   "source": [
    "# ARITHMETIC FUNCTION"
   ]
  },
  {
   "cell_type": "code",
   "execution_count": 58,
   "id": "fe38aea6",
   "metadata": {},
   "outputs": [
    {
     "name": "stdout",
     "output_type": "stream",
     "text": [
      "minimum value is 1 0\n",
      "maximum value is 5 3\n",
      "square root is [1.         1.73205081 2.         2.23606798]\n"
     ]
    }
   ],
   "source": [
    "import numpy as np\n",
    "var=np.array([1,3,4,5])\n",
    "print(\"minimum value is\", np.min(var),np.argmin(var))\n",
    "print(\"maximum value is\", np.max(var),np.argmax(var))\n",
    "print(\"square root is\", np.sqrt(var))\n"
   ]
  },
  {
   "cell_type": "code",
   "execution_count": 54,
   "id": "6909d9d4",
   "metadata": {},
   "outputs": [
    {
     "name": "stdout",
     "output_type": "stream",
     "text": [
      "[1 5]\n"
     ]
    }
   ],
   "source": [
    "var2=np.array([[1,2,3,4],[5,6,7,8]])\n",
    "var3=np.min(var2,axis=1)\n",
    "print(var3)"
   ]
  },
  {
   "cell_type": "code",
   "execution_count": 55,
   "id": "6274e4d9",
   "metadata": {},
   "outputs": [
    {
     "name": "stdout",
     "output_type": "stream",
     "text": [
      "[1 2 3 4]\n"
     ]
    }
   ],
   "source": [
    "var2=np.array([[1,2,3,4],[5,6,7,8]])\n",
    "var3=np.min(var2,axis=0)\n",
    "print(var3)"
   ]
  },
  {
   "cell_type": "code",
   "execution_count": 56,
   "id": "1e987afc",
   "metadata": {},
   "outputs": [
    {
     "name": "stdout",
     "output_type": "stream",
     "text": [
      "[4 8]\n"
     ]
    }
   ],
   "source": [
    "var2=np.array([[1,2,3,4],[5,6,7,8]])\n",
    "var3=np.max(var2,axis=1)\n",
    "print(var3)"
   ]
  },
  {
   "cell_type": "code",
   "execution_count": 57,
   "id": "d7cbeed6",
   "metadata": {},
   "outputs": [
    {
     "name": "stdout",
     "output_type": "stream",
     "text": [
      "[5 6 7 8]\n"
     ]
    }
   ],
   "source": [
    "var2=np.array([[1,2,3,4],[5,6,7,8]])\n",
    "var3=np.max(var2,axis=0)\n",
    "print(var3)"
   ]
  },
  {
   "cell_type": "code",
   "execution_count": 59,
   "id": "86835d05",
   "metadata": {},
   "outputs": [
    {
     "name": "stdout",
     "output_type": "stream",
     "text": [
      "sin value is [ 0.84147098  0.14112001 -0.7568025  -0.95892427]\n"
     ]
    }
   ],
   "source": [
    "var=np.array([1,3,4,5])\n",
    "print(\"sin value is\",np.sin(var))"
   ]
  },
  {
   "cell_type": "code",
   "execution_count": 60,
   "id": "89a4bd8b",
   "metadata": {},
   "outputs": [
    {
     "name": "stdout",
     "output_type": "stream",
     "text": [
      "sin value is [ 0.54030231 -0.9899925  -0.65364362  0.28366219]\n"
     ]
    }
   ],
   "source": [
    "var=np.array([1,3,4,5])\n",
    "print(\"sin value is\",np.cos(var))"
   ]
  },
  {
   "cell_type": "code",
   "execution_count": 62,
   "id": "0d035ff3",
   "metadata": {},
   "outputs": [
    {
     "name": "stdout",
     "output_type": "stream",
     "text": [
      "cummulative sum is [ 1  4  8 13]\n"
     ]
    }
   ],
   "source": [
    "var=np.array([1,3,4,5])\n",
    "print(\"cummulative sum is\",np.cumsum(var))"
   ]
  },
  {
   "cell_type": "code",
   "execution_count": null,
   "id": "a0238abd",
   "metadata": {},
   "outputs": [],
   "source": []
  }
 ],
 "metadata": {
  "kernelspec": {
   "display_name": "Python 3 (ipykernel)",
   "language": "python",
   "name": "python3"
  },
  "language_info": {
   "codemirror_mode": {
    "name": "ipython",
    "version": 3
   },
   "file_extension": ".py",
   "mimetype": "text/x-python",
   "name": "python",
   "nbconvert_exporter": "python",
   "pygments_lexer": "ipython3",
   "version": "3.9.7"
  }
 },
 "nbformat": 4,
 "nbformat_minor": 5
}
